{
 "metadata": {
  "language_info": {
   "codemirror_mode": {
    "name": "ipython",
    "version": 3
   },
   "file_extension": ".py",
   "mimetype": "text/x-python",
   "name": "python",
   "nbconvert_exporter": "python",
   "pygments_lexer": "ipython3",
   "version": "3.8.8"
  },
  "orig_nbformat": 2,
  "kernelspec": {
   "name": "python3",
   "display_name": "Python 3",
   "language": "python"
  }
 },
 "nbformat": 4,
 "nbformat_minor": 2,
 "cells": [
  {
   "cell_type": "code",
   "execution_count": 1,
   "metadata": {},
   "outputs": [],
   "source": [
    "import cv2\n",
    "import numpy as np\n",
    "import matplotlib.pyplot as plt"
   ]
  },
  {
   "cell_type": "code",
   "execution_count": 2,
   "metadata": {},
   "outputs": [],
   "source": [
    "img = np.zeros([512,512,3])"
   ]
  },
  {
   "cell_type": "code",
   "execution_count": 3,
   "metadata": {},
   "outputs": [],
   "source": [
    "# def draw_circle(event,x,y,flags,param):\n",
    "#     if event == cv2.EVENT_LBUTTONDBLCLK:\n",
    "#         cv2.circle(img,(x,y),100,(0,123,123),2)\n",
    "        "
   ]
  },
  {
   "cell_type": "code",
   "execution_count": 4,
   "metadata": {},
   "outputs": [],
   "source": [
    "# cv2.namedWindow('Paint')\n",
    "# cv2.setMouseCallback('image',draw_circle)\n",
    "# while 1:\n",
    "#     cv2.imshow('image',img)\n",
    "#     if cv2.waitKey(1) & 0xFF == ord('q'):\n",
    "#         break\n",
    "# cv2.destroyAllWindows()"
   ]
  },
  {
   "cell_type": "code",
   "execution_count": 3,
   "metadata": {},
   "outputs": [],
   "source": [
    "drawing = False\n",
    "mode = True\n",
    "ix,iy = -1,-1"
   ]
  },
  {
   "cell_type": "code",
   "execution_count": 4,
   "metadata": {},
   "outputs": [],
   "source": [
    "def draw_Cicle(event,x,y,flags,param):\n",
    "    global ix,iy,mode,drawing\n",
    "    if event == cv2.EVENT_LBUTTONDOWN:\n",
    "        drawing = True \n",
    "        ix,iy = x,y\n",
    "    elif event is cv2.EVENT_MOUSEMOVE:\n",
    "        if mode :\n",
    "            cv2.rectangle(img,(ix,iy),(x,y),(0,255,0),-1)\n",
    "        else:\n",
    "            cv2.circle  (img,(x,y),5,(255,0,0),-1)\n",
    "    elif cv2.EVENT_LBUTTONUP:\n",
    "        drawing=False\n",
    "        if mode :\n",
    "            cv2.rectangle(img,(ix,iy),(x,y),(0,255,0),-1)\n",
    "        else:\n",
    "            cv2.circle(img,(x,y),5,(0,0,255),-1)\n",
    "        "
   ]
  },
  {
   "cell_type": "code",
   "execution_count": 5,
   "metadata": {},
   "outputs": [],
   "source": [
    "cv2.namedWindow(\"Paint\")\n",
    "cv2.setMouseCallback('Paint',draw_Cicle)\n",
    "while 1:\n",
    "    cv2.imshow('Paint',img)\n",
    "    k =cv2.waitKey(1) & 0xff\n",
    "    if k == ord('m'):\n",
    "        mode = not mode\n",
    "    elif k == ord('q'):\n",
    "        break\n",
    "cv2.destroyAllWindows()"
   ]
  },
  {
   "cell_type": "code",
   "execution_count": null,
   "metadata": {},
   "outputs": [],
   "source": []
  }
 ]
}